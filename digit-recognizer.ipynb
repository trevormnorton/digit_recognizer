{
 "cells": [
  {
   "cell_type": "code",
   "execution_count": 1,
   "id": "06818c43",
   "metadata": {
    "_cell_guid": "d163a818-2348-4772-9839-a93f1ff39e8b",
    "_uuid": "75b2a253-3212-4b62-b043-83e876b401a9",
    "collapsed": false,
    "execution": {
     "iopub.execute_input": "2022-05-22T20:35:35.651014Z",
     "iopub.status.busy": "2022-05-22T20:35:35.650315Z",
     "iopub.status.idle": "2022-05-22T20:35:35.657956Z",
     "shell.execute_reply": "2022-05-22T20:35:35.658410Z",
     "shell.execute_reply.started": "2022-05-22T20:24:30.077658Z"
    },
    "jupyter": {
     "outputs_hidden": false
    },
    "papermill": {
     "duration": 0.041027,
     "end_time": "2022-05-22T20:35:35.658775",
     "exception": false,
     "start_time": "2022-05-22T20:35:35.617748",
     "status": "completed"
    },
    "tags": []
   },
   "outputs": [
    {
     "name": "stdout",
     "output_type": "stream",
     "text": [
      "/kaggle/input/digit-recognizer/sample_submission.csv\n",
      "/kaggle/input/digit-recognizer/train.csv\n",
      "/kaggle/input/digit-recognizer/test.csv\n"
     ]
    }
   ],
   "source": [
    "# This Python 3 environment comes with many helpful analytics libraries installed\n",
    "# It is defined by the kaggle/python Docker image: https://github.com/kaggle/docker-python\n",
    "# For example, here's several helpful packages to load\n",
    "\n",
    "import numpy as np # linear algebra\n",
    "import pandas as pd # data processing, CSV file I/O (e.g. pd.read_csv)\n",
    "\n",
    "# Input data files are available in the read-only \"../input/\" directory\n",
    "# For example, running this (by clicking run or pressing Shift+Enter) will list all files under the input directory\n",
    "\n",
    "import os\n",
    "for dirname, _, filenames in os.walk('/kaggle/input'):\n",
    "    for filename in filenames:\n",
    "        print(os.path.join(dirname, filename))\n",
    "\n",
    "# You can write up to 20GB to the current directory (/kaggle/working/) that gets preserved as output when you create a version using \"Save & Run All\" \n",
    "# You can also write temporary files to /kaggle/temp/, but they won't be saved outside of the current session"
   ]
  },
  {
   "cell_type": "code",
   "execution_count": 2,
   "id": "6a13ee46",
   "metadata": {
    "_cell_guid": "eb7863cb-1859-439e-988f-be3e66796cf9",
    "_uuid": "05749cc7-4adb-41b3-9e4c-42cc4f7bc520",
    "collapsed": false,
    "execution": {
     "iopub.execute_input": "2022-05-22T20:35:35.708254Z",
     "iopub.status.busy": "2022-05-22T20:35:35.707568Z",
     "iopub.status.idle": "2022-05-22T20:35:42.554840Z",
     "shell.execute_reply": "2022-05-22T20:35:42.555657Z",
     "shell.execute_reply.started": "2022-05-22T20:24:30.116016Z"
    },
    "jupyter": {
     "outputs_hidden": false
    },
    "papermill": {
     "duration": 6.875494,
     "end_time": "2022-05-22T20:35:42.555910",
     "exception": false,
     "start_time": "2022-05-22T20:35:35.680416",
     "status": "completed"
    },
    "tags": []
   },
   "outputs": [],
   "source": [
    "import tensorflow as tf\n",
    "from tensorflow.keras import datasets, layers, models\n",
    "from tensorflow.python.ops.numpy_ops import np_config\n",
    "import pandas as pd\n",
    "import numpy as np\n",
    "import matplotlib.pyplot as plt\n",
    "np_config.enable_numpy_behavior()\n",
    "%matplotlib inline"
   ]
  },
  {
   "cell_type": "code",
   "execution_count": 3,
   "id": "e58c574c",
   "metadata": {
    "_cell_guid": "f623024c-1361-43a2-8a99-6ad35cb1bd80",
    "_uuid": "94e47f70-7a80-4589-add3-7bc4c67284fe",
    "collapsed": false,
    "execution": {
     "iopub.execute_input": "2022-05-22T20:35:42.618123Z",
     "iopub.status.busy": "2022-05-22T20:35:42.616914Z",
     "iopub.status.idle": "2022-05-22T20:35:46.248662Z",
     "shell.execute_reply": "2022-05-22T20:35:46.248063Z",
     "shell.execute_reply.started": "2022-05-22T20:24:35.365159Z"
    },
    "jupyter": {
     "outputs_hidden": false
    },
    "papermill": {
     "duration": 3.661228,
     "end_time": "2022-05-22T20:35:46.248811",
     "exception": false,
     "start_time": "2022-05-22T20:35:42.587583",
     "status": "completed"
    },
    "tags": []
   },
   "outputs": [],
   "source": [
    "digits = pd.read_csv('/kaggle/input/digit-recognizer/train.csv')"
   ]
  },
  {
   "cell_type": "code",
   "execution_count": 4,
   "id": "15727465",
   "metadata": {
    "_cell_guid": "3263ea79-d327-4774-8211-a82bba470c7d",
    "_uuid": "f6753df6-77b2-4cee-b401-1f237740c870",
    "collapsed": false,
    "execution": {
     "iopub.execute_input": "2022-05-22T20:35:46.302130Z",
     "iopub.status.busy": "2022-05-22T20:35:46.301387Z",
     "iopub.status.idle": "2022-05-22T20:35:46.322627Z",
     "shell.execute_reply": "2022-05-22T20:35:46.322057Z",
     "shell.execute_reply.started": "2022-05-22T20:24:38.404554Z"
    },
    "jupyter": {
     "outputs_hidden": false
    },
    "papermill": {
     "duration": 0.050619,
     "end_time": "2022-05-22T20:35:46.322759",
     "exception": false,
     "start_time": "2022-05-22T20:35:46.272140",
     "status": "completed"
    },
    "tags": []
   },
   "outputs": [
    {
     "data": {
      "text/html": [
       "<div>\n",
       "<style scoped>\n",
       "    .dataframe tbody tr th:only-of-type {\n",
       "        vertical-align: middle;\n",
       "    }\n",
       "\n",
       "    .dataframe tbody tr th {\n",
       "        vertical-align: top;\n",
       "    }\n",
       "\n",
       "    .dataframe thead th {\n",
       "        text-align: right;\n",
       "    }\n",
       "</style>\n",
       "<table border=\"1\" class=\"dataframe\">\n",
       "  <thead>\n",
       "    <tr style=\"text-align: right;\">\n",
       "      <th></th>\n",
       "      <th>label</th>\n",
       "      <th>pixel0</th>\n",
       "      <th>pixel1</th>\n",
       "      <th>pixel2</th>\n",
       "      <th>pixel3</th>\n",
       "      <th>pixel4</th>\n",
       "      <th>pixel5</th>\n",
       "      <th>pixel6</th>\n",
       "      <th>pixel7</th>\n",
       "      <th>pixel8</th>\n",
       "      <th>...</th>\n",
       "      <th>pixel774</th>\n",
       "      <th>pixel775</th>\n",
       "      <th>pixel776</th>\n",
       "      <th>pixel777</th>\n",
       "      <th>pixel778</th>\n",
       "      <th>pixel779</th>\n",
       "      <th>pixel780</th>\n",
       "      <th>pixel781</th>\n",
       "      <th>pixel782</th>\n",
       "      <th>pixel783</th>\n",
       "    </tr>\n",
       "  </thead>\n",
       "  <tbody>\n",
       "    <tr>\n",
       "      <th>0</th>\n",
       "      <td>1</td>\n",
       "      <td>0</td>\n",
       "      <td>0</td>\n",
       "      <td>0</td>\n",
       "      <td>0</td>\n",
       "      <td>0</td>\n",
       "      <td>0</td>\n",
       "      <td>0</td>\n",
       "      <td>0</td>\n",
       "      <td>0</td>\n",
       "      <td>...</td>\n",
       "      <td>0</td>\n",
       "      <td>0</td>\n",
       "      <td>0</td>\n",
       "      <td>0</td>\n",
       "      <td>0</td>\n",
       "      <td>0</td>\n",
       "      <td>0</td>\n",
       "      <td>0</td>\n",
       "      <td>0</td>\n",
       "      <td>0</td>\n",
       "    </tr>\n",
       "    <tr>\n",
       "      <th>1</th>\n",
       "      <td>0</td>\n",
       "      <td>0</td>\n",
       "      <td>0</td>\n",
       "      <td>0</td>\n",
       "      <td>0</td>\n",
       "      <td>0</td>\n",
       "      <td>0</td>\n",
       "      <td>0</td>\n",
       "      <td>0</td>\n",
       "      <td>0</td>\n",
       "      <td>...</td>\n",
       "      <td>0</td>\n",
       "      <td>0</td>\n",
       "      <td>0</td>\n",
       "      <td>0</td>\n",
       "      <td>0</td>\n",
       "      <td>0</td>\n",
       "      <td>0</td>\n",
       "      <td>0</td>\n",
       "      <td>0</td>\n",
       "      <td>0</td>\n",
       "    </tr>\n",
       "    <tr>\n",
       "      <th>2</th>\n",
       "      <td>1</td>\n",
       "      <td>0</td>\n",
       "      <td>0</td>\n",
       "      <td>0</td>\n",
       "      <td>0</td>\n",
       "      <td>0</td>\n",
       "      <td>0</td>\n",
       "      <td>0</td>\n",
       "      <td>0</td>\n",
       "      <td>0</td>\n",
       "      <td>...</td>\n",
       "      <td>0</td>\n",
       "      <td>0</td>\n",
       "      <td>0</td>\n",
       "      <td>0</td>\n",
       "      <td>0</td>\n",
       "      <td>0</td>\n",
       "      <td>0</td>\n",
       "      <td>0</td>\n",
       "      <td>0</td>\n",
       "      <td>0</td>\n",
       "    </tr>\n",
       "    <tr>\n",
       "      <th>3</th>\n",
       "      <td>4</td>\n",
       "      <td>0</td>\n",
       "      <td>0</td>\n",
       "      <td>0</td>\n",
       "      <td>0</td>\n",
       "      <td>0</td>\n",
       "      <td>0</td>\n",
       "      <td>0</td>\n",
       "      <td>0</td>\n",
       "      <td>0</td>\n",
       "      <td>...</td>\n",
       "      <td>0</td>\n",
       "      <td>0</td>\n",
       "      <td>0</td>\n",
       "      <td>0</td>\n",
       "      <td>0</td>\n",
       "      <td>0</td>\n",
       "      <td>0</td>\n",
       "      <td>0</td>\n",
       "      <td>0</td>\n",
       "      <td>0</td>\n",
       "    </tr>\n",
       "    <tr>\n",
       "      <th>4</th>\n",
       "      <td>0</td>\n",
       "      <td>0</td>\n",
       "      <td>0</td>\n",
       "      <td>0</td>\n",
       "      <td>0</td>\n",
       "      <td>0</td>\n",
       "      <td>0</td>\n",
       "      <td>0</td>\n",
       "      <td>0</td>\n",
       "      <td>0</td>\n",
       "      <td>...</td>\n",
       "      <td>0</td>\n",
       "      <td>0</td>\n",
       "      <td>0</td>\n",
       "      <td>0</td>\n",
       "      <td>0</td>\n",
       "      <td>0</td>\n",
       "      <td>0</td>\n",
       "      <td>0</td>\n",
       "      <td>0</td>\n",
       "      <td>0</td>\n",
       "    </tr>\n",
       "  </tbody>\n",
       "</table>\n",
       "<p>5 rows × 785 columns</p>\n",
       "</div>"
      ],
      "text/plain": [
       "   label  pixel0  pixel1  pixel2  pixel3  pixel4  pixel5  pixel6  pixel7  \\\n",
       "0      1       0       0       0       0       0       0       0       0   \n",
       "1      0       0       0       0       0       0       0       0       0   \n",
       "2      1       0       0       0       0       0       0       0       0   \n",
       "3      4       0       0       0       0       0       0       0       0   \n",
       "4      0       0       0       0       0       0       0       0       0   \n",
       "\n",
       "   pixel8  ...  pixel774  pixel775  pixel776  pixel777  pixel778  pixel779  \\\n",
       "0       0  ...         0         0         0         0         0         0   \n",
       "1       0  ...         0         0         0         0         0         0   \n",
       "2       0  ...         0         0         0         0         0         0   \n",
       "3       0  ...         0         0         0         0         0         0   \n",
       "4       0  ...         0         0         0         0         0         0   \n",
       "\n",
       "   pixel780  pixel781  pixel782  pixel783  \n",
       "0         0         0         0         0  \n",
       "1         0         0         0         0  \n",
       "2         0         0         0         0  \n",
       "3         0         0         0         0  \n",
       "4         0         0         0         0  \n",
       "\n",
       "[5 rows x 785 columns]"
      ]
     },
     "execution_count": 4,
     "metadata": {},
     "output_type": "execute_result"
    }
   ],
   "source": [
    "digits.head()"
   ]
  },
  {
   "cell_type": "code",
   "execution_count": 5,
   "id": "c743ce46",
   "metadata": {
    "_cell_guid": "b28ae26c-3ade-416e-a9e0-74de0264aea0",
    "_uuid": "70ee78db-19e3-417c-b74b-9103b2236cd9",
    "collapsed": false,
    "execution": {
     "iopub.execute_input": "2022-05-22T20:35:46.373339Z",
     "iopub.status.busy": "2022-05-22T20:35:46.372671Z",
     "iopub.status.idle": "2022-05-22T20:35:47.289913Z",
     "shell.execute_reply": "2022-05-22T20:35:47.289312Z",
     "shell.execute_reply.started": "2022-05-22T20:24:38.431921Z"
    },
    "jupyter": {
     "outputs_hidden": false
    },
    "papermill": {
     "duration": 0.94509,
     "end_time": "2022-05-22T20:35:47.290075",
     "exception": false,
     "start_time": "2022-05-22T20:35:46.344985",
     "status": "completed"
    },
    "tags": []
   },
   "outputs": [
    {
     "name": "stderr",
     "output_type": "stream",
     "text": [
      "\n",
      "User settings:\n",
      "\n",
      "   KMP_AFFINITY=granularity=fine,verbose,compact,1,0\n",
      "   KMP_BLOCKTIME=0\n",
      "   KMP_SETTINGS=1\n",
      "   KMP_WARNINGS=0\n",
      "\n",
      "Effective settings:\n",
      "\n",
      "   KMP_ABORT_DELAY=0\n",
      "   KMP_ADAPTIVE_LOCK_PROPS='1,1024'\n",
      "   KMP_ALIGN_ALLOC=64\n",
      "   KMP_ALL_THREADPRIVATE=128\n",
      "   KMP_ATOMIC_MODE=2\n",
      "   KMP_BLOCKTIME=0\n",
      "   KMP_CPUINFO_FILE: value is not defined\n",
      "   KMP_DETERMINISTIC_REDUCTION=false\n",
      "   KMP_DEVICE_THREAD_LIMIT=2147483647\n",
      "   KMP_DISP_NUM_BUFFERS=7\n",
      "   KMP_DUPLICATE_LIB_OK=false\n",
      "   KMP_ENABLE_TASK_THROTTLING=true\n",
      "   KMP_FORCE_REDUCTION: value is not defined\n",
      "   KMP_FOREIGN_THREADS_THREADPRIVATE=true\n",
      "   KMP_FORKJOIN_BARRIER='2,2'\n",
      "   KMP_FORKJOIN_BARRIER_PATTERN='hyper,hyper'\n",
      "   KMP_GTID_MODE=3\n",
      "   KMP_HANDLE_SIGNALS=false\n",
      "   KMP_HOT_TEAMS_MAX_LEVEL=1\n",
      "   KMP_HOT_TEAMS_MODE=0\n",
      "   KMP_INIT_AT_FORK=true\n",
      "   KMP_LIBRARY=throughput\n",
      "   KMP_LOCK_KIND=queuing\n",
      "   KMP_MALLOC_POOL_INCR=1M\n",
      "   KMP_NUM_LOCKS_IN_BLOCK=1\n",
      "   KMP_PLAIN_BARRIER='2,2'\n",
      "   KMP_PLAIN_BARRIER_PATTERN='hyper,hyper'\n",
      "   KMP_REDUCTION_BARRIER='1,1'\n",
      "   KMP_REDUCTION_BARRIER_PATTERN='hyper,hyper'\n",
      "   KMP_SCHEDULE='static,balanced;guided,iterative'\n",
      "   KMP_SETTINGS=true\n",
      "   KMP_SPIN_BACKOFF_PARAMS='4096,100'\n",
      "   KMP_STACKOFFSET=64\n",
      "   KMP_STACKPAD=0\n",
      "   KMP_STACKSIZE=8M\n",
      "   KMP_STORAGE_MAP=false\n",
      "   KMP_TASKING=2\n",
      "   KMP_TASKLOOP_MIN_TASKS=0\n",
      "   KMP_TASK_STEALING_CONSTRAINT=1\n",
      "   KMP_TEAMS_THREAD_LIMIT=4\n",
      "   KMP_TOPOLOGY_METHOD=all\n",
      "   KMP_USE_YIELD=1\n",
      "   KMP_VERSION=false\n",
      "   KMP_WARNINGS=false\n",
      "   OMP_AFFINITY_FORMAT='OMP: pid %P tid %i thread %n bound to OS proc set {%A}'\n",
      "   OMP_ALLOCATOR=omp_default_mem_alloc\n",
      "   OMP_CANCELLATION=false\n",
      "   OMP_DEFAULT_DEVICE=0\n",
      "   OMP_DISPLAY_AFFINITY=false\n",
      "   OMP_DISPLAY_ENV=false\n",
      "   OMP_DYNAMIC=false\n",
      "   OMP_MAX_ACTIVE_LEVELS=1\n",
      "   OMP_MAX_TASK_PRIORITY=0\n",
      "   OMP_NESTED: deprecated; max-active-levels-var=1\n",
      "   OMP_NUM_THREADS: value is not defined\n",
      "   OMP_PLACES: value is not defined\n",
      "   OMP_PROC_BIND='intel'\n",
      "   OMP_SCHEDULE='static'\n",
      "   OMP_STACKSIZE=8M\n",
      "   OMP_TARGET_OFFLOAD=DEFAULT\n",
      "   OMP_THREAD_LIMIT=2147483647\n",
      "   OMP_WAIT_POLICY=PASSIVE\n",
      "   KMP_AFFINITY='verbose,warnings,respect,granularity=fine,compact,1,0'\n",
      "\n",
      "2022-05-22 20:35:46.510205: I tensorflow/core/common_runtime/process_util.cc:146] Creating new thread pool with default inter op setting: 2. Tune using inter_op_parallelism_threads for best performance.\n"
     ]
    }
   ],
   "source": [
    "digit_features = digits.copy()\n",
    "digit_features.pop('label')\n",
    "digit_features = tf.convert_to_tensor(digit_features).reshape((42000,28,28)) / 255"
   ]
  },
  {
   "cell_type": "code",
   "execution_count": 6,
   "id": "aaa056b6",
   "metadata": {
    "_cell_guid": "9a2ecae3-4725-4e7e-8e84-6666640a5db3",
    "_uuid": "35d2c1a4-20d4-4ccd-8b9c-2f94cebc0cf4",
    "collapsed": false,
    "execution": {
     "iopub.execute_input": "2022-05-22T20:35:47.340608Z",
     "iopub.status.busy": "2022-05-22T20:35:47.339884Z",
     "iopub.status.idle": "2022-05-22T20:35:47.342273Z",
     "shell.execute_reply": "2022-05-22T20:35:47.342790Z",
     "shell.execute_reply.started": "2022-05-22T20:24:41.551669Z"
    },
    "jupyter": {
     "outputs_hidden": false
    },
    "papermill": {
     "duration": 0.030574,
     "end_time": "2022-05-22T20:35:47.342963",
     "exception": false,
     "start_time": "2022-05-22T20:35:47.312389",
     "status": "completed"
    },
    "tags": []
   },
   "outputs": [],
   "source": [
    "digit_labels = tf.convert_to_tensor(digits['label'])"
   ]
  },
  {
   "cell_type": "code",
   "execution_count": 7,
   "id": "369bab83",
   "metadata": {
    "_cell_guid": "7e75da58-e01c-412c-9be5-6c4e54ed971a",
    "_uuid": "5003d558-c130-47a0-af38-e0d001c87631",
    "collapsed": false,
    "execution": {
     "iopub.execute_input": "2022-05-22T20:35:47.392326Z",
     "iopub.status.busy": "2022-05-22T20:35:47.391274Z",
     "iopub.status.idle": "2022-05-22T20:35:47.507434Z",
     "shell.execute_reply": "2022-05-22T20:35:47.508109Z",
     "shell.execute_reply.started": "2022-05-22T20:24:41.561168Z"
    },
    "jupyter": {
     "outputs_hidden": false
    },
    "papermill": {
     "duration": 0.143351,
     "end_time": "2022-05-22T20:35:47.508294",
     "exception": false,
     "start_time": "2022-05-22T20:35:47.364943",
     "status": "completed"
    },
    "tags": []
   },
   "outputs": [
    {
     "name": "stdout",
     "output_type": "stream",
     "text": [
      "Model: \"sequential\"\n",
      "_________________________________________________________________\n",
      "Layer (type)                 Output Shape              Param #   \n",
      "=================================================================\n",
      "conv2d (Conv2D)              (None, 24, 24, 28)        728       \n",
      "_________________________________________________________________\n",
      "max_pooling2d (MaxPooling2D) (None, 12, 12, 28)        0         \n",
      "_________________________________________________________________\n",
      "conv2d_1 (Conv2D)            (None, 8, 8, 56)          39256     \n",
      "_________________________________________________________________\n",
      "max_pooling2d_1 (MaxPooling2 (None, 4, 4, 56)          0         \n",
      "_________________________________________________________________\n",
      "flatten (Flatten)            (None, 896)               0         \n",
      "_________________________________________________________________\n",
      "dense (Dense)                (None, 100)               89700     \n",
      "_________________________________________________________________\n",
      "dense_1 (Dense)              (None, 10)                1010      \n",
      "=================================================================\n",
      "Total params: 130,694\n",
      "Trainable params: 130,694\n",
      "Non-trainable params: 0\n",
      "_________________________________________________________________\n"
     ]
    }
   ],
   "source": [
    "model = models.Sequential()\n",
    "model.add(layers.Conv2D(28, (5, 5), activation='relu', input_shape=(28, 28,1)))\n",
    "model.add(layers.MaxPooling2D((2, 2)))\n",
    "model.add(layers.Conv2D(56, (5,5), activation='relu'))\n",
    "model.add(layers.MaxPooling2D((2, 2)))\n",
    "model.add(layers.Flatten())\n",
    "model.add(layers.Dense(100))\n",
    "model.add(layers.Dense(10))\n",
    "model.summary()"
   ]
  },
  {
   "cell_type": "code",
   "execution_count": 8,
   "id": "57740686",
   "metadata": {
    "_cell_guid": "deaf6eb9-f504-4736-bfd6-443da1fea035",
    "_uuid": "c0252667-a7b4-4f73-8f4c-bd199d307d45",
    "collapsed": false,
    "execution": {
     "iopub.execute_input": "2022-05-22T20:35:47.556742Z",
     "iopub.status.busy": "2022-05-22T20:35:47.556082Z",
     "iopub.status.idle": "2022-05-22T20:35:47.559166Z",
     "shell.execute_reply": "2022-05-22T20:35:47.559665Z",
     "shell.execute_reply.started": "2022-05-22T20:24:41.658284Z"
    },
    "jupyter": {
     "outputs_hidden": false
    },
    "papermill": {
     "duration": 0.028826,
     "end_time": "2022-05-22T20:35:47.559827",
     "exception": false,
     "start_time": "2022-05-22T20:35:47.531001",
     "status": "completed"
    },
    "tags": []
   },
   "outputs": [],
   "source": [
    "import random"
   ]
  },
  {
   "cell_type": "code",
   "execution_count": 9,
   "id": "8cd53182",
   "metadata": {
    "_cell_guid": "ad3d03e1-d50a-477f-a9e9-b16cf24c4407",
    "_uuid": "bf062b45-a809-4580-8ce3-18d92cd660d3",
    "collapsed": false,
    "execution": {
     "iopub.execute_input": "2022-05-22T20:35:47.608725Z",
     "iopub.status.busy": "2022-05-22T20:35:47.607945Z",
     "iopub.status.idle": "2022-05-22T20:36:35.565820Z",
     "shell.execute_reply": "2022-05-22T20:36:35.566366Z",
     "shell.execute_reply.started": "2022-05-22T20:24:41.666847Z"
    },
    "jupyter": {
     "outputs_hidden": false
    },
    "papermill": {
     "duration": 47.984071,
     "end_time": "2022-05-22T20:36:35.566569",
     "exception": false,
     "start_time": "2022-05-22T20:35:47.582498",
     "status": "completed"
    },
    "tags": []
   },
   "outputs": [],
   "source": [
    "train_index = random.sample(range(42000), 29400)\n",
    "train_images, train_labels = digit_features[train_index], digit_labels[train_index]\n",
    "test_images, test_labels = [image for i, image in enumerate(digit_features) if i not in train_index], [label for i, label in enumerate(digit_labels) if i not in train_index]"
   ]
  },
  {
   "cell_type": "code",
   "execution_count": 10,
   "id": "ae248f05",
   "metadata": {
    "_cell_guid": "6d08920c-10cf-456e-904c-c0b22199ca7a",
    "_uuid": "d7f76ebd-10f5-4d2b-bfe2-f640610c0a50",
    "collapsed": false,
    "execution": {
     "iopub.execute_input": "2022-05-22T20:36:35.615773Z",
     "iopub.status.busy": "2022-05-22T20:36:35.615139Z",
     "iopub.status.idle": "2022-05-22T20:36:36.078205Z",
     "shell.execute_reply": "2022-05-22T20:36:36.078719Z",
     "shell.execute_reply.started": "2022-05-22T20:25:27.565433Z"
    },
    "jupyter": {
     "outputs_hidden": false
    },
    "papermill": {
     "duration": 0.488457,
     "end_time": "2022-05-22T20:36:36.078907",
     "exception": false,
     "start_time": "2022-05-22T20:36:35.590450",
     "status": "completed"
    },
    "tags": []
   },
   "outputs": [],
   "source": [
    "test_images = tf.convert_to_tensor(np.array(test_images))\n",
    "test_labels = tf.convert_to_tensor(np.array(test_labels))"
   ]
  },
  {
   "cell_type": "code",
   "execution_count": 11,
   "id": "48e364ef",
   "metadata": {
    "_cell_guid": "0a79eefc-cac0-4970-9bfd-e6915b727f2a",
    "_uuid": "db64cbb3-cc37-4d7c-be1b-e6772fc8bb58",
    "collapsed": false,
    "execution": {
     "iopub.execute_input": "2022-05-22T20:36:36.127324Z",
     "iopub.status.busy": "2022-05-22T20:36:36.126734Z",
     "iopub.status.idle": "2022-05-22T20:36:36.130300Z",
     "shell.execute_reply": "2022-05-22T20:36:36.130833Z",
     "shell.execute_reply.started": "2022-05-22T20:25:29.220268Z"
    },
    "jupyter": {
     "outputs_hidden": false
    },
    "papermill": {
     "duration": 0.029036,
     "end_time": "2022-05-22T20:36:36.130996",
     "exception": false,
     "start_time": "2022-05-22T20:36:36.101960",
     "status": "completed"
    },
    "tags": []
   },
   "outputs": [],
   "source": [
    "train_images = np.expand_dims(train_images, axis = -1)\n",
    "test_images = np.expand_dims(test_images, axis = -1)"
   ]
  },
  {
   "cell_type": "code",
   "execution_count": 12,
   "id": "9a4bbf91",
   "metadata": {
    "_cell_guid": "dd06fa1b-61e2-4094-8d93-d57c55bf7765",
    "_uuid": "4589c644-a498-4dcc-bc92-22642134ebda",
    "collapsed": false,
    "execution": {
     "iopub.execute_input": "2022-05-22T20:36:36.179809Z",
     "iopub.status.busy": "2022-05-22T20:36:36.179189Z",
     "iopub.status.idle": "2022-05-22T20:36:36.183630Z",
     "shell.execute_reply": "2022-05-22T20:36:36.184129Z",
     "shell.execute_reply.started": "2022-05-22T20:25:29.414786Z"
    },
    "jupyter": {
     "outputs_hidden": false
    },
    "papermill": {
     "duration": 0.030213,
     "end_time": "2022-05-22T20:36:36.184289",
     "exception": false,
     "start_time": "2022-05-22T20:36:36.154076",
     "status": "completed"
    },
    "tags": []
   },
   "outputs": [
    {
     "data": {
      "text/plain": [
       "(12600, 28, 28, 1)"
      ]
     },
     "execution_count": 12,
     "metadata": {},
     "output_type": "execute_result"
    }
   ],
   "source": [
    "test_images.shape"
   ]
  },
  {
   "cell_type": "code",
   "execution_count": 13,
   "id": "ae0a80c6",
   "metadata": {
    "_cell_guid": "c093e9f6-fea2-4d3f-96be-69dc9fffbfec",
    "_uuid": "fc9c5ad5-b543-479c-a863-93777bd53c6a",
    "collapsed": false,
    "execution": {
     "iopub.execute_input": "2022-05-22T20:36:36.232947Z",
     "iopub.status.busy": "2022-05-22T20:36:36.232278Z",
     "iopub.status.idle": "2022-05-22T20:41:04.976904Z",
     "shell.execute_reply": "2022-05-22T20:41:04.976172Z",
     "shell.execute_reply.started": "2022-05-22T20:25:29.421656Z"
    },
    "jupyter": {
     "outputs_hidden": false
    },
    "papermill": {
     "duration": 268.770099,
     "end_time": "2022-05-22T20:41:04.977087",
     "exception": false,
     "start_time": "2022-05-22T20:36:36.206988",
     "status": "completed"
    },
    "tags": []
   },
   "outputs": [
    {
     "name": "stderr",
     "output_type": "stream",
     "text": [
      "2022-05-22 20:36:36.361017: I tensorflow/compiler/mlir/mlir_graph_optimization_pass.cc:185] None of the MLIR Optimization Passes are enabled (registered 2)\n"
     ]
    },
    {
     "name": "stdout",
     "output_type": "stream",
     "text": [
      "Epoch 1/20\n",
      "919/919 [==============================] - 14s 15ms/step - loss: 0.1640 - accuracy: 0.9508 - val_loss: 0.0688 - val_accuracy: 0.9796\n",
      "Epoch 2/20\n",
      "919/919 [==============================] - 13s 14ms/step - loss: 0.0529 - accuracy: 0.9833 - val_loss: 0.0540 - val_accuracy: 0.9848\n",
      "Epoch 3/20\n",
      "919/919 [==============================] - 14s 15ms/step - loss: 0.0368 - accuracy: 0.9873 - val_loss: 0.0422 - val_accuracy: 0.9874\n",
      "Epoch 4/20\n",
      "919/919 [==============================] - 13s 14ms/step - loss: 0.0278 - accuracy: 0.9914 - val_loss: 0.0415 - val_accuracy: 0.9879\n",
      "Epoch 5/20\n",
      "919/919 [==============================] - 13s 14ms/step - loss: 0.0211 - accuracy: 0.9931 - val_loss: 0.0538 - val_accuracy: 0.9856\n",
      "Epoch 6/20\n",
      "919/919 [==============================] - 13s 15ms/step - loss: 0.0167 - accuracy: 0.9943 - val_loss: 0.0425 - val_accuracy: 0.9879\n",
      "Epoch 7/20\n",
      "919/919 [==============================] - 13s 14ms/step - loss: 0.0133 - accuracy: 0.9957 - val_loss: 0.0575 - val_accuracy: 0.9870\n",
      "Epoch 8/20\n",
      "919/919 [==============================] - 13s 14ms/step - loss: 0.0146 - accuracy: 0.9950 - val_loss: 0.0517 - val_accuracy: 0.9867\n",
      "Epoch 9/20\n",
      "919/919 [==============================] - 14s 15ms/step - loss: 0.0120 - accuracy: 0.9958 - val_loss: 0.0631 - val_accuracy: 0.9855\n",
      "Epoch 10/20\n",
      "919/919 [==============================] - 13s 14ms/step - loss: 0.0121 - accuracy: 0.9962 - val_loss: 0.0450 - val_accuracy: 0.9902\n",
      "Epoch 11/20\n",
      "919/919 [==============================] - 14s 15ms/step - loss: 0.0087 - accuracy: 0.9970 - val_loss: 0.0587 - val_accuracy: 0.9883\n",
      "Epoch 12/20\n",
      "919/919 [==============================] - 14s 15ms/step - loss: 0.0094 - accuracy: 0.9970 - val_loss: 0.0713 - val_accuracy: 0.9854\n",
      "Epoch 13/20\n",
      "919/919 [==============================] - 14s 15ms/step - loss: 0.0081 - accuracy: 0.9972 - val_loss: 0.0716 - val_accuracy: 0.9857\n",
      "Epoch 14/20\n",
      "919/919 [==============================] - 13s 14ms/step - loss: 0.0110 - accuracy: 0.9963 - val_loss: 0.0563 - val_accuracy: 0.9898\n",
      "Epoch 15/20\n",
      "919/919 [==============================] - 13s 14ms/step - loss: 0.0060 - accuracy: 0.9981 - val_loss: 0.0579 - val_accuracy: 0.9895\n",
      "Epoch 16/20\n",
      "919/919 [==============================] - 14s 15ms/step - loss: 0.0112 - accuracy: 0.9967 - val_loss: 0.0560 - val_accuracy: 0.9887\n",
      "Epoch 17/20\n",
      "919/919 [==============================] - 13s 14ms/step - loss: 0.0050 - accuracy: 0.9982 - val_loss: 0.0604 - val_accuracy: 0.9885\n",
      "Epoch 18/20\n",
      "919/919 [==============================] - 14s 15ms/step - loss: 0.0020 - accuracy: 0.9994 - val_loss: 0.0916 - val_accuracy: 0.9860\n",
      "Epoch 19/20\n",
      "919/919 [==============================] - 13s 14ms/step - loss: 0.0098 - accuracy: 0.9973 - val_loss: 0.0645 - val_accuracy: 0.9895\n",
      "Epoch 20/20\n",
      "919/919 [==============================] - 14s 15ms/step - loss: 0.0064 - accuracy: 0.9979 - val_loss: 0.0752 - val_accuracy: 0.9887\n"
     ]
    }
   ],
   "source": [
    "model.compile(optimizer='adam',\n",
    "              loss=tf.keras.losses.SparseCategoricalCrossentropy(from_logits=True),\n",
    "              metrics=['accuracy'])\n",
    "\n",
    "history = model.fit(train_images, train_labels, epochs=20, validation_data=(test_images, test_labels), use_multiprocessing=True)"
   ]
  },
  {
   "cell_type": "code",
   "execution_count": 14,
   "id": "cd6ad431",
   "metadata": {
    "_cell_guid": "34ba58dc-5a42-41ea-b638-6190089179bc",
    "_uuid": "6a263e30-d5ba-4bae-9bc8-388c15436e08",
    "collapsed": false,
    "execution": {
     "iopub.execute_input": "2022-05-22T20:41:07.649960Z",
     "iopub.status.busy": "2022-05-22T20:41:07.648835Z",
     "iopub.status.idle": "2022-05-22T20:41:09.835692Z",
     "shell.execute_reply": "2022-05-22T20:41:09.834644Z",
     "shell.execute_reply.started": "2022-05-22T20:26:51.995219Z"
    },
    "jupyter": {
     "outputs_hidden": false
    },
    "papermill": {
     "duration": 3.515876,
     "end_time": "2022-05-22T20:41:09.835853",
     "exception": false,
     "start_time": "2022-05-22T20:41:06.319977",
     "status": "completed"
    },
    "tags": []
   },
   "outputs": [
    {
     "name": "stdout",
     "output_type": "stream",
     "text": [
      "394/394 - 2s - loss: 0.0752 - accuracy: 0.9887\n"
     ]
    },
    {
     "data": {
      "image/png": "[encoded data removed]",
      "text/plain": [
       "<Figure size 432x288 with 1 Axes>"
      ]
     },
     "metadata": {
      "needs_background": "light"
     },
     "output_type": "display_data"
    }
   ],
   "source": [
    "plt.plot(history.history['accuracy'], label='accuracy')\n",
    "plt.plot(history.history['val_accuracy'], label = 'val_accuracy')\n",
    "plt.xlabel('Epoch')\n",
    "plt.ylabel('Accuracy')\n",
    "plt.ylim([0.94, 1])\n",
    "plt.legend(loc='lower right')\n",
    "\n",
    "test_loss, test_acc = model.evaluate(test_images,  test_labels, verbose=2)"
   ]
  },
  {
   "cell_type": "code",
   "execution_count": 15,
   "id": "3a869727",
   "metadata": {
    "_cell_guid": "07312674-b5ed-4305-8788-a93d618587c4",
    "_uuid": "e7fb09a9-9587-4a90-9008-c872fcfd49e8",
    "collapsed": false,
    "execution": {
     "iopub.execute_input": "2022-05-22T20:41:12.397443Z",
     "iopub.status.busy": "2022-05-22T20:41:12.396222Z",
     "iopub.status.idle": "2022-05-22T20:41:14.365705Z",
     "shell.execute_reply": "2022-05-22T20:41:14.365080Z",
     "shell.execute_reply.started": "2022-05-22T20:26:52.936125Z"
    },
    "jupyter": {
     "outputs_hidden": false
    },
    "papermill": {
     "duration": 3.251536,
     "end_time": "2022-05-22T20:41:14.365847",
     "exception": false,
     "start_time": "2022-05-22T20:41:11.114311",
     "status": "completed"
    },
    "tags": []
   },
   "outputs": [],
   "source": [
    "test_data = pd.read_csv('/kaggle/input/digit-recognizer/test.csv')"
   ]
  },
  {
   "cell_type": "code",
   "execution_count": 16,
   "id": "33650ba3",
   "metadata": {
    "_cell_guid": "1d73813f-1a09-4f4e-8a8a-cede52aba83d",
    "_uuid": "77d2ada2-a724-45fc-8f77-c31eceaa568c",
    "collapsed": false,
    "execution": {
     "iopub.execute_input": "2022-05-22T20:41:16.991058Z",
     "iopub.status.busy": "2022-05-22T20:41:16.964974Z",
     "iopub.status.idle": "2022-05-22T20:41:17.000431Z",
     "shell.execute_reply": "2022-05-22T20:41:17.001146Z",
     "shell.execute_reply.started": "2022-05-22T20:26:55.198480Z"
    },
    "jupyter": {
     "outputs_hidden": false
    },
    "papermill": {
     "duration": 1.352629,
     "end_time": "2022-05-22T20:41:17.001422",
     "exception": false,
     "start_time": "2022-05-22T20:41:15.648793",
     "status": "completed"
    },
    "tags": []
   },
   "outputs": [
    {
     "name": "stdout",
     "output_type": "stream",
     "text": [
      "<class 'pandas.core.frame.DataFrame'>\n",
      "RangeIndex: 28000 entries, 0 to 27999\n",
      "Columns: 784 entries, pixel0 to pixel783\n",
      "dtypes: int64(784)\n",
      "memory usage: 167.5 MB\n"
     ]
    }
   ],
   "source": [
    "test_data.info()"
   ]
  },
  {
   "cell_type": "code",
   "execution_count": 17,
   "id": "3ae44923",
   "metadata": {
    "_cell_guid": "8f9f14e4-03cf-43cd-b74e-3840621a88ef",
    "_uuid": "e35d9020-26e2-45f2-8c47-569b8417da0b",
    "collapsed": false,
    "execution": {
     "iopub.execute_input": "2022-05-22T20:41:19.604099Z",
     "iopub.status.busy": "2022-05-22T20:41:19.603060Z",
     "iopub.status.idle": "2022-05-22T20:41:20.012116Z",
     "shell.execute_reply": "2022-05-22T20:41:20.011484Z",
     "shell.execute_reply.started": "2022-05-22T20:26:55.252165Z"
    },
    "jupyter": {
     "outputs_hidden": false
    },
    "papermill": {
     "duration": 1.685394,
     "end_time": "2022-05-22T20:41:20.012267",
     "exception": false,
     "start_time": "2022-05-22T20:41:18.326873",
     "status": "completed"
    },
    "tags": []
   },
   "outputs": [],
   "source": [
    "test_data = tf.convert_to_tensor(test_data).reshape((28000,28,28)) / 255\n",
    "test_data = np.expand_dims(test_data, axis = -1)"
   ]
  },
  {
   "cell_type": "code",
   "execution_count": 18,
   "id": "5eabf8d8",
   "metadata": {
    "_cell_guid": "e660ee5f-d127-450a-b5c5-d1e10550c215",
    "_uuid": "ea6b34ea-8bf6-49c5-915c-4be9558c47b8",
    "collapsed": false,
    "execution": {
     "iopub.execute_input": "2022-05-22T20:41:22.556379Z",
     "iopub.status.busy": "2022-05-22T20:41:22.555503Z",
     "iopub.status.idle": "2022-05-22T20:41:26.121034Z",
     "shell.execute_reply": "2022-05-22T20:41:26.119984Z",
     "shell.execute_reply.started": "2022-05-22T20:26:55.632191Z"
    },
    "jupyter": {
     "outputs_hidden": false
    },
    "papermill": {
     "duration": 4.834393,
     "end_time": "2022-05-22T20:41:26.121197",
     "exception": false,
     "start_time": "2022-05-22T20:41:21.286804",
     "status": "completed"
    },
    "tags": []
   },
   "outputs": [],
   "source": [
    "logits = model.predict(test_data)\n",
    "predicted_labels = [logit.argmax() for logit in logits]"
   ]
  },
  {
   "cell_type": "code",
   "execution_count": 19,
   "id": "da14b74c",
   "metadata": {
    "_cell_guid": "d632b691-e74f-4746-8582-18f5fd8ae7f3",
    "_uuid": "0e73cb03-6a11-43f9-833f-46772ccfbe0e",
    "collapsed": false,
    "execution": {
     "iopub.execute_input": "2022-05-22T20:41:28.689590Z",
     "iopub.status.busy": "2022-05-22T20:41:28.688914Z",
     "iopub.status.idle": "2022-05-22T20:41:28.695136Z",
     "shell.execute_reply": "2022-05-22T20:41:28.695876Z",
     "shell.execute_reply.started": "2022-05-22T20:26:57.183128Z"
    },
    "jupyter": {
     "outputs_hidden": false
    },
    "papermill": {
     "duration": 1.290527,
     "end_time": "2022-05-22T20:41:28.696074",
     "exception": false,
     "start_time": "2022-05-22T20:41:27.405547",
     "status": "completed"
    },
    "tags": []
   },
   "outputs": [
    {
     "data": {
      "text/plain": [
       "[2, 0, 9, 9, 3, 7, 0, 3, 0, 3]"
      ]
     },
     "execution_count": 19,
     "metadata": {},
     "output_type": "execute_result"
    }
   ],
   "source": [
    "predicted_labels[0:10]"
   ]
  },
  {
   "cell_type": "code",
   "execution_count": 20,
   "id": "58806bb5",
   "metadata": {
    "_cell_guid": "dcb0d709-4931-4a88-92b2-5815154e23f3",
    "_uuid": "f5b3c2b9-c356-467a-b889-82f3ce6b9049",
    "collapsed": false,
    "execution": {
     "iopub.execute_input": "2022-05-22T20:41:31.248889Z",
     "iopub.status.busy": "2022-05-22T20:41:31.248156Z",
     "iopub.status.idle": "2022-05-22T20:41:31.271111Z",
     "shell.execute_reply": "2022-05-22T20:41:31.271648Z",
     "shell.execute_reply.started": "2022-05-22T20:26:57.192298Z"
    },
    "jupyter": {
     "outputs_hidden": false
    },
    "papermill": {
     "duration": 1.299667,
     "end_time": "2022-05-22T20:41:31.271836",
     "exception": false,
     "start_time": "2022-05-22T20:41:29.972169",
     "status": "completed"
    },
    "tags": []
   },
   "outputs": [],
   "source": [
    "submission = pd.DataFrame({'ImageId' : range(1,28001), 'Label' : predicted_labels})"
   ]
  },
  {
   "cell_type": "code",
   "execution_count": 21,
   "id": "52d4a915",
   "metadata": {
    "_cell_guid": "a42e46ab-667b-4835-b97a-d7563dc596d3",
    "_uuid": "36a0fdcc-40a4-4e09-9552-d68d657d3674",
    "collapsed": false,
    "execution": {
     "iopub.execute_input": "2022-05-22T20:41:33.897937Z",
     "iopub.status.busy": "2022-05-22T20:41:33.897251Z",
     "iopub.status.idle": "2022-05-22T20:41:33.955004Z",
     "shell.execute_reply": "2022-05-22T20:41:33.954135Z",
     "shell.execute_reply.started": "2022-05-22T20:26:57.217094Z"
    },
    "jupyter": {
     "outputs_hidden": false
    },
    "papermill": {
     "duration": 1.350146,
     "end_time": "2022-05-22T20:41:33.955179",
     "exception": false,
     "start_time": "2022-05-22T20:41:32.605033",
     "status": "completed"
    },
    "tags": []
   },
   "outputs": [],
   "source": [
    "submission.to_csv('/kaggle/working/submission.csv', index=False)"
   ]
  },
  {
   "cell_type": "code",
   "execution_count": null,
   "id": "10c4bb8d",
   "metadata": {
    "_cell_guid": "4020ebf3-1c22-49ad-a2af-7a15e131b189",
    "_uuid": "e42346cb-b701-468b-86b9-b7cc97ea33f1",
    "collapsed": false,
    "jupyter": {
     "outputs_hidden": false
    },
    "papermill": {
     "duration": 1.267885,
     "end_time": "2022-05-22T20:41:36.492649",
     "exception": false,
     "start_time": "2022-05-22T20:41:35.224764",
     "status": "completed"
    },
    "tags": []
   },
   "outputs": [],
   "source": []
  }
 ],
 "metadata": {
  "kernelspec": {
   "display_name": "Python 3",
   "language": "python",
   "name": "python3"
  },
  "language_info": {
   "codemirror_mode": {
    "name": "ipython",
    "version": 3
   },
   "file_extension": ".py",
   "mimetype": "text/x-python",
   "name": "python",
   "nbconvert_exporter": "python",
   "pygments_lexer": "ipython3",
   "version": "3.7.12"
  },
  "papermill": {
   "default_parameters": {},
   "duration": 375.293308,
   "end_time": "2022-05-22T20:41:40.932942",
   "environment_variables": {},
   "exception": null,
   "input_path": "__notebook__.ipynb",
   "output_path": "__notebook__.ipynb",
   "parameters": {},
   "start_time": "2022-05-22T20:35:25.639634",
   "version": "2.3.3"
  }
 },
 "nbformat": 4,
 "nbformat_minor": 5
}
